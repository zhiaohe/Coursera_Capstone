{
 "cells": [
  {
   "cell_type": "markdown",
   "metadata": {},
   "source": [
    "# Find a good place to open a Chinese restaurant in Toronto"
   ]
  },
  {
   "cell_type": "markdown",
   "metadata": {},
   "source": [
    "## Business Probem:"
   ]
  },
  {
   "cell_type": "markdown",
   "metadata": {},
   "source": [
    "As more and more different cultural people immigrant from all over the world to Canada, people need more and more different cultural things in their life. Restaurant could represent for one aspect in a culture. Toronto, the capital of the province of Ontario, is the most populous Canadian city. In Toronto, there are more and more Chinese immigrants especially young people. They really want to have a taste of Chinese original food instead of revised Chinese food. So there is a big oppotunity for a business of opening a Chinese restaurant. While opening a restaurant can be a very lucrative business, a lack of demand caused many restaurants to close within the first year of opening. There are many different factors that can account for a resturant's success such as price, location, quality of the food.\n",
    "\n",
    "The goal of this project is to use the Foursquare API to determine a good location in Toronto to open a Chinese restaurant. For Chinese Restaurant specifically, location and competition are both determined by where the restaurant will be opened."
   ]
  },
  {
   "cell_type": "markdown",
   "metadata": {},
   "source": [
    "# Data"
   ]
  },
  {
   "cell_type": "markdown",
   "metadata": {},
   "source": [
    "I will use Foursquare API to determine the average house price in different neighborhoods, population distribution of each area, the number of the Chinese restaurant in each Neighborhood and the number of total restaurant in each neighborhood. The data will be used to cluster different postal codes to determine the optimal location to open the restaurant. \n",
    "\n",
    "1.'List of postal codes of Canada:M' fro wikipedia to find 'postal', 'Borough', 'Neighborhood' in Toronto.\n",
    "\n"
   ]
  },
  {
   "cell_type": "markdown",
   "metadata": {},
   "source": [
    "2.Geospatial_data' to find latitude and longitude for different postal area"
   ]
  },
  {
   "cell_type": "markdown",
   "metadata": {},
   "source": [
    "3.Use 'Demographics of Toronto' to get information about the distribution by their ethnicity."
   ]
  },
  {
   "cell_type": "markdown",
   "metadata": {},
   "source": [
    "4. To get location and other information about various venues in Toronto I'm using Foursquare's explore API"
   ]
  },
  {
   "cell_type": "code",
   "execution_count": null,
   "metadata": {},
   "outputs": [],
   "source": []
  }
 ],
 "metadata": {
  "kernelspec": {
   "display_name": "Python 3",
   "language": "python",
   "name": "python3"
  },
  "language_info": {
   "codemirror_mode": {
    "name": "ipython",
    "version": 3
   },
   "file_extension": ".py",
   "mimetype": "text/x-python",
   "name": "python",
   "nbconvert_exporter": "python",
   "pygments_lexer": "ipython3",
   "version": "3.7.1"
  }
 },
 "nbformat": 4,
 "nbformat_minor": 2
}
