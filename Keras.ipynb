{
 "cells": [
  {
   "cell_type": "code",
   "execution_count": 40,
   "metadata": {
    "ExecuteTime": {
     "end_time": "2020-06-19T22:57:22.894244Z",
     "start_time": "2020-06-19T22:57:22.890244Z"
    }
   },
   "outputs": [],
   "source": [
    "import pandas as pd\n",
    "import numpy as np\n",
    "from sklearn.model_selection import train_test_split\n",
    "\n",
    "import keras\n",
    "\n",
    "from keras.models import Sequential\n",
    "from keras.layers import Dense\n",
    "\n",
    "from sklearn.metrics import mean_squared_error"
   ]
  },
  {
   "cell_type": "markdown",
   "metadata": {},
   "source": [
    "# Data Preparation"
   ]
  },
  {
   "cell_type": "markdown",
   "metadata": {},
   "source": [
    "First, let us import the data"
   ]
  },
  {
   "cell_type": "code",
   "execution_count": 3,
   "metadata": {
    "ExecuteTime": {
     "end_time": "2020-06-19T21:45:56.986104Z",
     "start_time": "2020-06-19T21:45:51.159771Z"
    }
   },
   "outputs": [],
   "source": [
    "dataDF = pd.read_csv(\"https://cocl.us/concrete_data\")"
   ]
  },
  {
   "cell_type": "code",
   "execution_count": 5,
   "metadata": {
    "ExecuteTime": {
     "end_time": "2020-06-19T21:46:23.828639Z",
     "start_time": "2020-06-19T21:46:23.812638Z"
    }
   },
   "outputs": [
    {
     "data": {
      "text/html": [
       "<div>\n",
       "<style scoped>\n",
       "    .dataframe tbody tr th:only-of-type {\n",
       "        vertical-align: middle;\n",
       "    }\n",
       "\n",
       "    .dataframe tbody tr th {\n",
       "        vertical-align: top;\n",
       "    }\n",
       "\n",
       "    .dataframe thead th {\n",
       "        text-align: right;\n",
       "    }\n",
       "</style>\n",
       "<table border=\"1\" class=\"dataframe\">\n",
       "  <thead>\n",
       "    <tr style=\"text-align: right;\">\n",
       "      <th></th>\n",
       "      <th>Cement</th>\n",
       "      <th>Blast Furnace Slag</th>\n",
       "      <th>Fly Ash</th>\n",
       "      <th>Water</th>\n",
       "      <th>Superplasticizer</th>\n",
       "      <th>Coarse Aggregate</th>\n",
       "      <th>Fine Aggregate</th>\n",
       "      <th>Age</th>\n",
       "      <th>Strength</th>\n",
       "    </tr>\n",
       "  </thead>\n",
       "  <tbody>\n",
       "    <tr>\n",
       "      <td>0</td>\n",
       "      <td>540.0</td>\n",
       "      <td>0.0</td>\n",
       "      <td>0.0</td>\n",
       "      <td>162.0</td>\n",
       "      <td>2.5</td>\n",
       "      <td>1040.0</td>\n",
       "      <td>676.0</td>\n",
       "      <td>28</td>\n",
       "      <td>79.99</td>\n",
       "    </tr>\n",
       "    <tr>\n",
       "      <td>1</td>\n",
       "      <td>540.0</td>\n",
       "      <td>0.0</td>\n",
       "      <td>0.0</td>\n",
       "      <td>162.0</td>\n",
       "      <td>2.5</td>\n",
       "      <td>1055.0</td>\n",
       "      <td>676.0</td>\n",
       "      <td>28</td>\n",
       "      <td>61.89</td>\n",
       "    </tr>\n",
       "    <tr>\n",
       "      <td>2</td>\n",
       "      <td>332.5</td>\n",
       "      <td>142.5</td>\n",
       "      <td>0.0</td>\n",
       "      <td>228.0</td>\n",
       "      <td>0.0</td>\n",
       "      <td>932.0</td>\n",
       "      <td>594.0</td>\n",
       "      <td>270</td>\n",
       "      <td>40.27</td>\n",
       "    </tr>\n",
       "    <tr>\n",
       "      <td>3</td>\n",
       "      <td>332.5</td>\n",
       "      <td>142.5</td>\n",
       "      <td>0.0</td>\n",
       "      <td>228.0</td>\n",
       "      <td>0.0</td>\n",
       "      <td>932.0</td>\n",
       "      <td>594.0</td>\n",
       "      <td>365</td>\n",
       "      <td>41.05</td>\n",
       "    </tr>\n",
       "    <tr>\n",
       "      <td>4</td>\n",
       "      <td>198.6</td>\n",
       "      <td>132.4</td>\n",
       "      <td>0.0</td>\n",
       "      <td>192.0</td>\n",
       "      <td>0.0</td>\n",
       "      <td>978.4</td>\n",
       "      <td>825.5</td>\n",
       "      <td>360</td>\n",
       "      <td>44.30</td>\n",
       "    </tr>\n",
       "  </tbody>\n",
       "</table>\n",
       "</div>"
      ],
      "text/plain": [
       "   Cement  Blast Furnace Slag  Fly Ash  Water  Superplasticizer  \\\n",
       "0   540.0                 0.0      0.0  162.0               2.5   \n",
       "1   540.0                 0.0      0.0  162.0               2.5   \n",
       "2   332.5               142.5      0.0  228.0               0.0   \n",
       "3   332.5               142.5      0.0  228.0               0.0   \n",
       "4   198.6               132.4      0.0  192.0               0.0   \n",
       "\n",
       "   Coarse Aggregate  Fine Aggregate  Age  Strength  \n",
       "0            1040.0           676.0   28     79.99  \n",
       "1            1055.0           676.0   28     61.89  \n",
       "2             932.0           594.0  270     40.27  \n",
       "3             932.0           594.0  365     41.05  \n",
       "4             978.4           825.5  360     44.30  "
      ]
     },
     "execution_count": 5,
     "metadata": {},
     "output_type": "execute_result"
    }
   ],
   "source": [
    "dataDF.head()"
   ]
  },
  {
   "cell_type": "markdown",
   "metadata": {},
   "source": [
    "## Prepare Train/Test data"
   ]
  },
  {
   "cell_type": "markdown",
   "metadata": {},
   "source": [
    "Prepare a training and testing predictors and target data."
   ]
  },
  {
   "cell_type": "code",
   "execution_count": 67,
   "metadata": {
    "ExecuteTime": {
     "end_time": "2020-06-19T23:23:59.684575Z",
     "start_time": "2020-06-19T23:23:59.679575Z"
    }
   },
   "outputs": [],
   "source": [
    "def prepdata(data):\n",
    "    trainData, testData = train_test_split(dataDF, test_size=0.3)\n",
    "    trainPred = trainData[data_col[data_col!=\"Strength\"]]\n",
    "    trainTarg = trainData[\"Strength\"]\n",
    "    \n",
    "    testPred = testData[data_col[data_col!=\"Strength\"]]\n",
    "    testTarg = testData[\"Strength\"]\n",
    "    \n",
    "    return [trainPred, trainTarg,testPred,testTarg]"
   ]
  },
  {
   "cell_type": "code",
   "execution_count": 68,
   "metadata": {
    "ExecuteTime": {
     "end_time": "2020-06-19T23:23:59.730578Z",
     "start_time": "2020-06-19T23:23:59.687575Z"
    }
   },
   "outputs": [],
   "source": [
    "[trainPred, trainTarg,testPred,testTarg] = prepdata(dataDF)"
   ]
  },
  {
   "cell_type": "markdown",
   "metadata": {},
   "source": [
    "# Assignment A -  raw data"
   ]
  },
  {
   "cell_type": "markdown",
   "metadata": {},
   "source": [
    "looking for the columns"
   ]
  },
  {
   "cell_type": "code",
   "execution_count": 69,
   "metadata": {
    "ExecuteTime": {
     "end_time": "2020-06-19T23:23:59.804582Z",
     "start_time": "2020-06-19T23:23:59.733578Z"
    }
   },
   "outputs": [],
   "source": [
    "data_col = dataDF.columns"
   ]
  },
  {
   "cell_type": "markdown",
   "metadata": {},
   "source": [
    "Getting number of features"
   ]
  },
  {
   "cell_type": "code",
   "execution_count": 70,
   "metadata": {
    "ExecuteTime": {
     "end_time": "2020-06-19T23:23:59.850585Z",
     "start_time": "2020-06-19T23:23:59.805582Z"
    }
   },
   "outputs": [
    {
     "data": {
      "text/plain": [
       "8"
      ]
     },
     "execution_count": 70,
     "metadata": {},
     "output_type": "execute_result"
    }
   ],
   "source": [
    "n_cols = trainPred.shape[1]\n",
    "n_cols"
   ]
  },
  {
   "cell_type": "markdown",
   "metadata": {},
   "source": [
    "Here i define the sequential class and define the layers and the compiler"
   ]
  },
  {
   "cell_type": "code",
   "execution_count": 71,
   "metadata": {
    "ExecuteTime": {
     "end_time": "2020-06-19T23:23:59.894587Z",
     "start_time": "2020-06-19T23:23:59.852585Z"
    },
    "code_folding": [
     0
    ]
   },
   "outputs": [],
   "source": [
    "def regression_model():\n",
    "    # create model\n",
    "    model = Sequential()\n",
    "    model.add(Dense(10, activation='relu', input_shape=(n_cols,)))\n",
    "    model.add(Dense(1))\n",
    "    \n",
    "    # compile model\n",
    "    model.compile(optimizer='adam', loss='mean_squared_error')\n",
    "    return model"
   ]
  },
  {
   "cell_type": "markdown",
   "metadata": {},
   "source": [
    "here, getMSE takes the model and prepared data with the 4 difference types, as shown above. It train the data and makes the prediction on the test data and calculate the MSE in one go."
   ]
  },
  {
   "cell_type": "code",
   "execution_count": 72,
   "metadata": {
    "ExecuteTime": {
     "end_time": "2020-06-19T23:23:59.931589Z",
     "start_time": "2020-06-19T23:23:59.896587Z"
    },
    "code_folding": []
   },
   "outputs": [],
   "source": [
    "def getMSE(modelNN, prepedData, epNr):\n",
    "    model = modelNN\n",
    "    model.fit(prepedData[0],prepedData[1],epochs=epNr, verbose=0)\n",
    "    \n",
    "    ypred = model.predict(prepedData[2])\n",
    "    ytrue = prepedData[3]\n",
    "    return mean_squared_error(ypred,ytrue)"
   ]
  },
  {
   "cell_type": "markdown",
   "metadata": {},
   "source": [
    "looping over!"
   ]
  },
  {
   "cell_type": "code",
   "execution_count": 73,
   "metadata": {
    "ExecuteTime": {
     "end_time": "2020-06-19T23:24:53.468651Z",
     "start_time": "2020-06-19T23:23:59.933589Z"
    }
   },
   "outputs": [
    {
     "name": "stdout",
     "output_type": "stream",
     "text": [
      "mean of MSE:359.4500311884338\n",
      "std of MSE:373.16977732321914\n"
     ]
    }
   ],
   "source": [
    "mseList =[]\n",
    "for i in range(50):\n",
    "    mseList.append(getMSE(regression_model(),prepdata(dataDF),50))\n",
    "print(\"mean of MSE:\"+ str(np.mean(mseList)))\n",
    "print(\"std of MSE:\" + str(np.std(mseList)))"
   ]
  },
  {
   "cell_type": "markdown",
   "metadata": {},
   "source": [
    "# Assignment B - normalised data"
   ]
  },
  {
   "cell_type": "markdown",
   "metadata": {},
   "source": [
    "Let us normalise the data now and repeat A."
   ]
  },
  {
   "cell_type": "code",
   "execution_count": 74,
   "metadata": {
    "ExecuteTime": {
     "end_time": "2020-06-19T23:24:53.476652Z",
     "start_time": "2020-06-19T23:24:53.470651Z"
    },
    "code_folding": [
     0
    ]
   },
   "outputs": [],
   "source": [
    "def prepdata_norm(data):\n",
    "    trainData, testData = train_test_split(dataDF, test_size=0.3)\n",
    "    trainPred = trainData[data_col[data_col!=\"Strength\"]]\n",
    "    trainTarg = trainData[\"Strength\"]\n",
    "    \n",
    "    testPred = testData[data_col[data_col!=\"Strength\"]]\n",
    "    testTarg = testData[\"Strength\"]\n",
    "    \n",
    "    trainPred_norm = (trainPred - trainPred.mean()) / trainPred.std()\n",
    "    testPred_norm = (testPred - testPred.mean()) / testPred.std()\n",
    "    \n",
    "    return [trainPred_norm, trainTarg,testPred_norm,testTarg]"
   ]
  },
  {
   "cell_type": "code",
   "execution_count": 75,
   "metadata": {
    "ExecuteTime": {
     "end_time": "2020-06-19T23:24:53.571657Z",
     "start_time": "2020-06-19T23:24:53.478652Z"
    }
   },
   "outputs": [],
   "source": [
    "[trainPred, trainTarg,testPred,testTarg] = prepdata_norm(dataDF)"
   ]
  },
  {
   "cell_type": "code",
   "execution_count": 76,
   "metadata": {
    "ExecuteTime": {
     "end_time": "2020-06-19T23:25:48.934824Z",
     "start_time": "2020-06-19T23:24:53.573657Z"
    }
   },
   "outputs": [
    {
     "name": "stdout",
     "output_type": "stream",
     "text": [
      "mean of MSE:382.9099765716365\n",
      "std of MSE:117.30033486111651\n"
     ]
    }
   ],
   "source": [
    "mseList_norm =[]\n",
    "for i in range(50):\n",
    "    mseList_norm.append(getMSE(regression_model(),prepdata_norm(dataDF),50))\n",
    "print(\"mean of MSE:\"+ str(np.mean(mseList_norm)))\n",
    "print(\"std of MSE:\" + str(np.std(mseList_norm)))"
   ]
  },
  {
   "cell_type": "markdown",
   "metadata": {},
   "source": [
    "The mean of MSE is roughly the same, however, the error on MSE becomes significantly less!!! --> meaning more accurate!"
   ]
  },
  {
   "cell_type": "markdown",
   "metadata": {},
   "source": [
    "# Assignment C -  normalised data with 100 epochs"
   ]
  },
  {
   "cell_type": "code",
   "execution_count": 81,
   "metadata": {
    "ExecuteTime": {
     "end_time": "2020-06-19T23:30:37.860349Z",
     "start_time": "2020-06-19T23:29:05.920091Z"
    }
   },
   "outputs": [
    {
     "name": "stdout",
     "output_type": "stream",
     "text": [
      "mean of MSE:163.25182450930936\n",
      "std of MSE:18.40663009435832\n"
     ]
    }
   ],
   "source": [
    "mseList_norm2 =[]\n",
    "for i in range(50):\n",
    "    mseList_norm2.append(getMSE(regression_model(),prepdata_norm(dataDF),100))\n",
    "print(\"mean of MSE:\"+ str(np.mean(mseList_norm2)))\n",
    "print(\"std of MSE:\" + str(np.std(mseList_norm2)))"
   ]
  },
  {
   "cell_type": "markdown",
   "metadata": {},
   "source": [
    "it seems that more training session we plan, the smaller is the MSE and also the error is reduced to around 10%."
   ]
  },
  {
   "cell_type": "markdown",
   "metadata": {},
   "source": [
    "# Assignment D -  3 layers/10 nodes with 50 epochs, normalised data"
   ]
  },
  {
   "cell_type": "code",
   "execution_count": 82,
   "metadata": {
    "ExecuteTime": {
     "end_time": "2020-06-19T23:30:37.870350Z",
     "start_time": "2020-06-19T23:30:37.863350Z"
    }
   },
   "outputs": [],
   "source": [
    "def regression_model2():\n",
    "    # create model\n",
    "    model = Sequential()\n",
    "    model.add(Dense(10, activation='relu', input_shape=(n_cols,)))\n",
    "    model.add(Dense(10, activation='relu', input_shape=(n_cols,)))\n",
    "    model.add(Dense(10, activation='relu', input_shape=(n_cols,)))\n",
    "    model.add(Dense(1))\n",
    "    \n",
    "    # compile model\n",
    "    model.compile(optimizer='adam', loss='mean_squared_error')\n",
    "    return model"
   ]
  },
  {
   "cell_type": "code",
   "execution_count": 83,
   "metadata": {
    "ExecuteTime": {
     "end_time": "2020-06-19T23:31:55.769806Z",
     "start_time": "2020-06-19T23:30:37.873350Z"
    }
   },
   "outputs": [
    {
     "name": "stdout",
     "output_type": "stream",
     "text": [
      "mean of MSE:128.5208818661282\n",
      "std of MSE:17.081513428556804\n"
     ]
    }
   ],
   "source": [
    "mseList_norm3 =[]\n",
    "for i in range(50):\n",
    "    mseList_norm3.append(getMSE(regression_model2(),prepdata_norm(dataDF),50))\n",
    "print(\"mean of MSE:\"+ str(np.mean(mseList_norm3)))\n",
    "print(\"std of MSE:\" + str(np.std(mseList_norm3)))"
   ]
  },
  {
   "cell_type": "markdown",
   "metadata": {},
   "source": [
    "similiarly, more layers achieve similiar results."
   ]
  },
  {
   "cell_type": "code",
   "execution_count": null,
   "metadata": {},
   "outputs": [],
   "source": []
  }
 ],
 "metadata": {
  "hide_input": false,
  "kernelspec": {
   "display_name": "Python 3",
   "language": "python",
   "name": "python3"
  },
  "language_info": {
   "codemirror_mode": {
    "name": "ipython",
    "version": 3
   },
   "file_extension": ".py",
   "mimetype": "text/x-python",
   "name": "python",
   "nbconvert_exporter": "python",
   "pygments_lexer": "ipython3",
   "version": "3.7.4"
  }
 },
 "nbformat": 4,
 "nbformat_minor": 2
}
